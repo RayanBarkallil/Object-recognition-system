{
 "cells": [
  {
   "cell_type": "markdown",
   "id": "36a91319",
   "metadata": {},
   "source": [
    "# Imports"
   ]
  },
  {
   "cell_type": "code",
   "execution_count": 4,
   "id": "453960e8",
   "metadata": {},
   "outputs": [],
   "source": [
    "import cv2\n",
    "from cv2 import dnn\n",
    "import matplotlib.pyplot as plt\n",
    "import tensorflow as tf\n",
    "import keras\n",
    "\n",
    "import numpy as np"
   ]
  },
  {
   "cell_type": "markdown",
   "id": "a3dbe0e4",
   "metadata": {},
   "source": [
    "On va créer une liste des classes et de superclasses qu'on peut detecter. l'utilité de ces listes réside dans 2 points :\n",
    "- Vu que la fonction 'predict()' du model défini en bas retourne une liste de 100 probabilités, dont on tirera l'indice de la plus grande, la liste LABELS va assurer l'association du label adéquat a l'image\n",
    "- SUPER_LABELS sera utilsé pour un meilleur organisation du code lors de la detection avec le HAAR Cascade"
   ]
  },
  {
   "cell_type": "code",
   "execution_count": null,
   "id": "bab32526",
   "metadata": {},
   "outputs": [],
   "source": [
    "#get labels :\n",
    "classLabels = \"beaver, dolphin, otter, seal, whale, aquarium fish, flatfish, ray, shark, trout, orchids, poppies, roses, sunflowers, tulips, containers\tbottles, bowls, cans, cups, plates, apples, mushrooms, oranges, pears, sweet peppers, clock, computer keyboard, lamp, telephone, television, bed, chair, couch, table, wardrobe, bee, beetle, butterfly, caterpillar, cockroach, bear, leopard, lion, tiger, wolf, bridge, castle, house, road, skyscraper, cloud, forest, mountain, plain, sea, camel, cattle, chimpanzee, elephant, kangaroo, fox, porcupine, possum, raccoon, skunk, crab, lobster, snail, spider, worm, baby, boy, girl, man, woman, crocodile, dinosaur, lizard, snake, turtle, hamster, mouse, rabbit, shrew, squirrel, maple, oak, palm, pine, willow, bicycle, bus, motorcycle, pickup truck, train, lawn-mower, rocket, streetcar, tank, tractor\"\n",
    "LABELS = classLabels.split(\", \")\n",
    "LABELS.sort()\n",
    "print(\"the labels list of len :\", len(LABELS))\n",
    "print(LABELS)"
   ]
  },
  {
   "cell_type": "code",
   "execution_count": null,
   "id": "c5de1990",
   "metadata": {},
   "outputs": [],
   "source": [
    "#get superlabels :\n",
    "SUPER_LABELS = [\"aquatic mammals\",\"fish\",\"flowers\",\"food containers\",\"household electrical devices\",\"fruit and vegetables\",\"household furniture\",\"large carnivores\",\"insects\",\"large man-made outdoor things\",\"large natural outdoor scenes\",\"medium-sized mammals\",\"large omnivores and herbivores\",\"non-insect invertebrates\",\"reptiles\",\"people\",\"trees\",\"small mammals\",\"vehicles\"]\n",
    "SUPER_LABELS.sort()\n",
    "print(\"superclass_list len = \",len(SUPER_LABELS))\n",
    "print(SUPER_LABELS)"
   ]
  },
  {
   "cell_type": "markdown",
   "id": "af7a4d02",
   "metadata": {},
   "source": [
    "# Get the Image\n",
    "Pour avoir des images homogènes, on effectuera un resize()"
   ]
  },
  {
   "cell_type": "code",
   "execution_count": 22,
   "id": "0eab29ab",
   "metadata": {},
   "outputs": [],
   "source": [
    "image_name = '852c2fa5e5468761c3ae8b796ca9be85_XL.jpg'\n",
    "img = cv2.imread('CLASSIFICATION/test Images/'+image_name)"
   ]
  },
  {
   "cell_type": "code",
   "execution_count": 23,
   "id": "2871a72b",
   "metadata": {},
   "outputs": [],
   "source": [
    "#resizing\n",
    "img = cv2.resize(img,(1000,1000))"
   ]
  },
  {
   "cell_type": "markdown",
   "id": "369ce258",
   "metadata": {},
   "source": [
    "# Haar Cascade\n",
    "Cette partie sera consacré la detection en utilisant le HAAR Cascade"
   ]
  },
  {
   "cell_type": "markdown",
   "id": "e99a5811",
   "metadata": {},
   "source": [
    "cascade_dic est un dictionnaire contenant les Detecteurs de toutes les superclasses, selon leurs nom.\n",
    "exple : cascade_dic['insect'] fera reference a un detecteur associé a la classe insect ..."
   ]
  },
  {
   "cell_type": "code",
   "execution_count": 24,
   "id": "8568b95a",
   "metadata": {},
   "outputs": [],
   "source": [
    "cascade_dic = {}\n",
    "cropped_img_list = []"
   ]
  },
  {
   "cell_type": "code",
   "execution_count": 25,
   "id": "80d4755e",
   "metadata": {},
   "outputs": [],
   "source": [
    "for superclass in SUPER_LABELS :\n",
    "    cascade_dic[superclass] = cv2.CascadeClassifier('haar/haar_cascades/'+superclass+'_cascade.xml')\n",
    "    #RQ : le nom du detecteur doit obligatoirement suivre la nomeclature : superclass+'_cascade.xml'"
   ]
  },
  {
   "cell_type": "markdown",
   "id": "68725842",
   "metadata": {},
   "source": [
    "Pour chaque detecteur, on veut sauvegarder les coordonnées du rectangle, retournées par la fonction 'detectMultiScale()'.\n",
    "\n",
    "Ces coordonnées seront tous dans une liste : haar_list_outputs"
   ]
  },
  {
   "cell_type": "code",
   "execution_count": null,
   "id": "3de6d131",
   "metadata": {},
   "outputs": [],
   "source": [
    "#make it grayscale\n",
    "gray = cv2.cvtColor(img, cv2.COLOR_BGR2GRAY)\n",
    "\n",
    "#---------------------------------get rectangle coordinates--------------------------\n",
    "haar_list_outputs = []\n",
    "for superLabel in SUPER_LABELS :\n",
    "    print(superLabel)\n",
    "    try :\n",
    "        rectangle_list = cascade_dic[superLabel].detectMultiScale(\n",
    "                                image=gray, \n",
    "                                scaleFactor=1.1, \n",
    "                                minNeighbors=50, \n",
    "                                minSize=(500,500),\n",
    "                                maxSize=(1000,1000)\n",
    "                            )\n",
    "        haar_list_outputs.append(rectangle_list)\n",
    "    except:\n",
    "        continue\n",
    "print(haar_list_outputs)\n",
    "#-------------------------------------------------------------------------------------"
   ]
  },
  {
   "cell_type": "markdown",
   "id": "4ed1bfbd",
   "metadata": {},
   "source": [
    "Et pour chaque rectangle dans 'haar_list_outputs', on coupe l'image selon le rectangle.\n",
    "\n",
    "l'image coupée sera stocké a son tour dans une liste : 'cropped_img_list'  (définie plus haut)"
   ]
  },
  {
   "cell_type": "code",
   "execution_count": null,
   "id": "fe18be52",
   "metadata": {
    "scrolled": false
   },
   "outputs": [],
   "source": [
    "#--------------------------------- cropping the images -------------------------------\n",
    "for cascade_output in haar_list_outputs[] :\n",
    "    for (ex,ey,ew,eh) in cascade_output:\n",
    "        #draw renctangles\n",
    "#         cv2.rectangle(img,(ex,ey),(ex+ew,ey+eh),(0,255,0),5)   \n",
    "        #cropping\n",
    "        cropped_img = img[ey:ey+eh,ex:ex+ew]\n",
    "        cropped_img_list.append(cropped_img)\n",
    "#-------------------------------------------------------------------------------------"
   ]
  },
  {
   "cell_type": "markdown",
   "id": "441db340",
   "metadata": {},
   "source": [
    "Partie annexe pour afficher les images dans cropped_img_list"
   ]
  },
  {
   "cell_type": "code",
   "execution_count": null,
   "id": "c5c76463",
   "metadata": {},
   "outputs": [],
   "source": [
    "#--------------------------------- show the cropped images ---------------------------\n",
    "print(len(cropped_img_list))\n",
    "for im in cropped_img_list :\n",
    "    #show the image\n",
    "    cv2.imshow('img with rectangle',im)\n",
    "    cv2.waitKey(0)\n",
    "#-------------------------------------------------------------------------------------"
   ]
  },
  {
   "cell_type": "markdown",
   "id": "f8f4c0c5",
   "metadata": {},
   "source": [
    "# Image preprocessing"
   ]
  },
  {
   "cell_type": "markdown",
   "id": "ca3b4e59",
   "metadata": {},
   "source": [
    "Les images doivent être traîtés avant d'être données comme input au classificateur. Pour cela on effectuera principalement 2 transformations :\n",
    "- redimensionnement de l'image en 224 x 224\n",
    "- scaling de l'image, pour avoir une matrice 3d constitué de valeurs entre 0 et 1\n",
    "\n",
    "Ces images transformées sont a leurs tour ajoutées dans la liste 'classifier_input_images'"
   ]
  },
  {
   "cell_type": "code",
   "execution_count": 28,
   "id": "ef2ce3ae",
   "metadata": {},
   "outputs": [],
   "source": [
    "classifier_input_images = []"
   ]
  },
  {
   "cell_type": "code",
   "execution_count": 29,
   "id": "3a2bff35",
   "metadata": {},
   "outputs": [],
   "source": [
    "for im in cropped_img_list :\n",
    "    #resizing\n",
    "    im = cv2.resize(im,(224,224))     # resize image to match model's expected sizing\n",
    "    im = im.reshape(1,224,224,3)      # return the image with shaping that TF wants.\n",
    "\n",
    "    #scaling\n",
    "    im = im/255\n",
    "    classifier_input_images.append(im)"
   ]
  },
  {
   "cell_type": "code",
   "execution_count": 30,
   "id": "3d05e45d",
   "metadata": {
    "scrolled": true
   },
   "outputs": [
    {
     "data": {
      "text/plain": [
       "1"
      ]
     },
     "execution_count": 30,
     "metadata": {},
     "output_type": "execute_result"
    }
   ],
   "source": [
    "len(classifier_input_images)"
   ]
  },
  {
   "cell_type": "markdown",
   "id": "542bdb5d",
   "metadata": {},
   "source": [
    "# Classifier"
   ]
  },
  {
   "cell_type": "markdown",
   "id": "d4d84bd3",
   "metadata": {},
   "source": [
    "### Load a classifier\n",
    "Chargement du classificateur, et le résumé de sa composition"
   ]
  },
  {
   "cell_type": "code",
   "execution_count": null,
   "id": "faa84666",
   "metadata": {},
   "outputs": [],
   "source": [
    "model = keras.models.load_model(\"CLASSIFICATION/TransferLearning_EARLYSTOP_70K_with_only1Dense100_100epoch/final_save\")\n",
    "model.summary()"
   ]
  },
  {
   "cell_type": "markdown",
   "id": "73dec8f3",
   "metadata": {},
   "source": [
    "### Classification"
   ]
  },
  {
   "cell_type": "markdown",
   "id": "b0befc47",
   "metadata": {},
   "source": [
    "Enfin la prédiction !\n",
    "\n",
    "Pour chaque image dans notre input buffer 'classifier_input_images', on effectuera une prédiction, qui retrounera un vecteur de 100 probabiltés, qu'on stock dans une liste 'prediction_list'"
   ]
  },
  {
   "cell_type": "code",
   "execution_count": 31,
   "id": "0b30cd7e",
   "metadata": {},
   "outputs": [
    {
     "name": "stdout",
     "output_type": "stream",
     "text": [
      "1/1 [==============================] - 0s 192ms/step\n"
     ]
    }
   ],
   "source": [
    "prediction_list = []\n",
    "for img in classifier_input_images :\n",
    "    prediction  = model.predict(img)\n",
    "    prediction_list.append(prediction)"
   ]
  },
  {
   "cell_type": "code",
   "execution_count": 32,
   "id": "8262d762",
   "metadata": {},
   "outputs": [
    {
     "data": {
      "text/plain": [
       "1"
      ]
     },
     "execution_count": 32,
     "metadata": {},
     "output_type": "execute_result"
    }
   ],
   "source": [
    "len(prediction_list)"
   ]
  },
  {
   "cell_type": "markdown",
   "id": "fbb43f28",
   "metadata": {},
   "source": [
    "# Output Label"
   ]
  },
  {
   "cell_type": "markdown",
   "id": "bcb2d4fd",
   "metadata": {},
   "source": [
    "### maxIndexList\n",
    "on définit une fonction pour retourner la liste des indices avec la proba max + on l'affiche"
   ]
  },
  {
   "cell_type": "markdown",
   "id": "d50214a2",
   "metadata": {},
   "source": [
    "Cette première fonction a pour but de retourner les 5 premiers indices max de la liste passé en paramètre."
   ]
  },
  {
   "cell_type": "code",
   "execution_count": null,
   "id": "5e057f40",
   "metadata": {},
   "outputs": [],
   "source": [
    "def getMaxIndexList(prediction):\n",
    "    maxIndexList = []\n",
    "    tmp = [i for i in prediction[0]]\n",
    "    for i in range(5):\n",
    "        maxIndexList.append(np.argmax(tmp))\n",
    "        tmp[maxIndexList[i]] = -1\n",
    "    return maxIndexList"
   ]
  },
  {
   "cell_type": "markdown",
   "id": "57d96975",
   "metadata": {},
   "source": [
    "Tandis que celle-ci, a pour but d'afficher les 5 nom de classes avec la plus grande probabilité"
   ]
  },
  {
   "cell_type": "code",
   "execution_count": 33,
   "id": "f31ca210",
   "metadata": {
    "scrolled": true
   },
   "outputs": [],
   "source": [
    "def predictionFunction(prediction):\n",
    "    print(\"associated Label with model : \\n-----------------------\")\n",
    "    for i in getMaxIndexList(prediction):  \n",
    "        print(\"- acc = {prediction:.3f} : {label:s}\".format(prediction = prediction[0][i],label = LABELS[i]))"
   ]
  },
  {
   "cell_type": "markdown",
   "id": "6c3e6018",
   "metadata": {},
   "source": [
    "Cette dernière fonction se fera pour chaque prédiction dans 'prediction_list'\n",
    "\n",
    "RQ : la correspondance img - label se fait de maniere bijective : \n",
    "        prediction_list[0] correspond a la prédiction de l'image classifier_input_images[0] etc ..."
   ]
  },
  {
   "cell_type": "code",
   "execution_count": 34,
   "id": "928292b6",
   "metadata": {},
   "outputs": [
    {
     "name": "stdout",
     "output_type": "stream",
     "text": [
      "associated Label with model : \n",
      "-----------------------\n",
      "- acc = 1.000 : mountain\n",
      "- acc = 0.997 : lobster\n",
      "- acc = 0.996 : tulips\n",
      "- acc = 0.987 : oranges\n",
      "- acc = 0.984 : flatfish\n"
     ]
    }
   ],
   "source": [
    "for prediction in prediction_list:\n",
    "    predictionFunction(prediction)"
   ]
  }
 ],
 "metadata": {
  "kernelspec": {
   "display_name": "Python 3 (ipykernel)",
   "language": "python",
   "name": "python3"
  },
  "language_info": {
   "codemirror_mode": {
    "name": "ipython",
    "version": 3
   },
   "file_extension": ".py",
   "mimetype": "text/x-python",
   "name": "python",
   "nbconvert_exporter": "python",
   "pygments_lexer": "ipython3",
   "version": "3.9.12"
  }
 },
 "nbformat": 4,
 "nbformat_minor": 5
}
