{
 "cells": [
  {
   "cell_type": "markdown",
   "id": "d01fdf7a",
   "metadata": {},
   "source": [
    "### Webcam"
   ]
  },
  {
   "cell_type": "code",
   "execution_count": 21,
   "id": "6b0e5dd0",
   "metadata": {},
   "outputs": [],
   "source": [
    "import numpy as np\n",
    "import cv2\n",
    "\n",
    "\n",
    "reptile_cascade = cv2.CascadeClassifier('haar_cascades/reptiles_cascade.xml')\n",
    "cap = cv2.VideoCapture(0)\n",
    "\n",
    "while 1:\n",
    "    ret, img = cap.read()\n",
    "    gray = cv2.cvtColor(img, cv2.COLOR_BGR2GRAY)\n",
    "    reptile = reptile_cascade.detectMultiScale(img,scaleFactor=1.3, minNeighbors=1, minSize=(300,300),maxSize=(2000,2000))\n",
    "    for (ex,ey,ew,eh) in reptile:\n",
    "         cv2.rectangle(img,(ex,ey),(ex+ew,ey+eh),(0,255,0),2)\n",
    "    cv2.imshow('img',img)\n",
    "    k = cv2.waitKey(30) & 0xff\n",
    "    if k == 27:\n",
    "        break\n",
    "\n",
    "cap.release()\n",
    "cv2.destroyAllWindows()"
   ]
  },
  {
   "cell_type": "markdown",
   "id": "4a2a3c4c",
   "metadata": {},
   "source": [
    "### single image"
   ]
  },
  {
   "cell_type": "code",
   "execution_count": null,
   "id": "374451ee",
   "metadata": {
    "scrolled": true
   },
   "outputs": [],
   "source": [
    "import numpy as np\n",
    "import cv2\n",
    "\n",
    "\n",
    "reptiles_cascade = cv2.CascadeClassifier('haar_cascades/reptiles_cascade.xml')\n",
    "\n",
    "img = cv2.imread(\"TestSamples/food containers/input/20220525_130744.jpg\")\n",
    "gray = cv2.cvtColor(img, cv2.COLOR_BGR2GRAY)\n",
    "reptiles = reptiles_cascade.detectMultiScale(image=img, scaleFactor=1.1, minNeighbors=50, minSize=(700,700),maxSize=(2000,2000) )\n",
    "for (ex,ey,ew,eh) in reptiles:\n",
    "    cv2.rectangle(img,(ex,ey),(ex+ew,ey+eh),(0,255,0),5)\n",
    "#resized=cv2.resize(img,(int(img.shape[1]/5), int(img.shape[0]/5))) \n",
    "cv2.imshow('img with rectangle',img)\n",
    "cv2.waitKey(0)"
   ]
  }
 ],
 "metadata": {
  "kernelspec": {
   "display_name": "Python 3 (ipykernel)",
   "language": "python",
   "name": "python3"
  },
  "language_info": {
   "codemirror_mode": {
    "name": "ipython",
    "version": 3
   },
   "file_extension": ".py",
   "mimetype": "text/x-python",
   "name": "python",
   "nbconvert_exporter": "python",
   "pygments_lexer": "ipython3",
   "version": "3.9.12"
  }
 },
 "nbformat": 4,
 "nbformat_minor": 5
}
